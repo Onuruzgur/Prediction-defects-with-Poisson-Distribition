{
 "cells": [
  {
   "cell_type": "markdown",
   "metadata": {},
   "source": [
    "# Prediction defects with Poisson Distribition\n"
   ]
  },
  {
   "cell_type": "code",
   "execution_count": 1,
   "metadata": {},
   "outputs": [],
   "source": [
    "import csv\n",
    "import numpy as np\n",
    "import math\n",
    "import statistics\n",
    "import pandas as pd\n",
    "import matplotlib.pyplot as plt"
   ]
  },
  {
   "cell_type": "code",
   "execution_count": 2,
   "metadata": {},
   "outputs": [
    {
     "data": {
      "text/html": [
       "<div>\n",
       "<style scoped>\n",
       "    .dataframe tbody tr th:only-of-type {\n",
       "        vertical-align: middle;\n",
       "    }\n",
       "\n",
       "    .dataframe tbody tr th {\n",
       "        vertical-align: top;\n",
       "    }\n",
       "\n",
       "    .dataframe thead th {\n",
       "        text-align: right;\n",
       "    }\n",
       "</style>\n",
       "<table border=\"1\" class=\"dataframe\">\n",
       "  <thead>\n",
       "    <tr style=\"text-align: right;\">\n",
       "      <th></th>\n",
       "      <th>0</th>\n",
       "      <th>1</th>\n",
       "      <th>2</th>\n",
       "      <th>3</th>\n",
       "      <th>4</th>\n",
       "      <th>5</th>\n",
       "      <th>6</th>\n",
       "      <th>7</th>\n",
       "      <th>8</th>\n",
       "      <th>9</th>\n",
       "      <th>10</th>\n",
       "      <th>11</th>\n",
       "      <th>12</th>\n",
       "      <th>13</th>\n",
       "      <th>14</th>\n",
       "      <th>15</th>\n",
       "    </tr>\n",
       "  </thead>\n",
       "  <tbody>\n",
       "    <tr>\n",
       "      <th>0</th>\n",
       "      <td>1</td>\n",
       "      <td>2000</td>\n",
       "      <td>0</td>\n",
       "      <td>0</td>\n",
       "      <td>0</td>\n",
       "      <td>0</td>\n",
       "      <td>0</td>\n",
       "      <td>0</td>\n",
       "      <td>0</td>\n",
       "      <td>1</td>\n",
       "      <td>1</td>\n",
       "      <td>0</td>\n",
       "      <td>0</td>\n",
       "      <td>0</td>\n",
       "      <td>1</td>\n",
       "      <td>0</td>\n",
       "    </tr>\n",
       "    <tr>\n",
       "      <th>1</th>\n",
       "      <td>2</td>\n",
       "      <td>2001</td>\n",
       "      <td>2</td>\n",
       "      <td>0</td>\n",
       "      <td>0</td>\n",
       "      <td>0</td>\n",
       "      <td>1</td>\n",
       "      <td>0</td>\n",
       "      <td>0</td>\n",
       "      <td>0</td>\n",
       "      <td>0</td>\n",
       "      <td>0</td>\n",
       "      <td>0</td>\n",
       "      <td>0</td>\n",
       "      <td>1</td>\n",
       "      <td>1</td>\n",
       "    </tr>\n",
       "    <tr>\n",
       "      <th>2</th>\n",
       "      <td>3</td>\n",
       "      <td>2002</td>\n",
       "      <td>2</td>\n",
       "      <td>0</td>\n",
       "      <td>0</td>\n",
       "      <td>0</td>\n",
       "      <td>0</td>\n",
       "      <td>0</td>\n",
       "      <td>1</td>\n",
       "      <td>1</td>\n",
       "      <td>0</td>\n",
       "      <td>0</td>\n",
       "      <td>1</td>\n",
       "      <td>0</td>\n",
       "      <td>2</td>\n",
       "      <td>0</td>\n",
       "    </tr>\n",
       "    <tr>\n",
       "      <th>3</th>\n",
       "      <td>4</td>\n",
       "      <td>2003</td>\n",
       "      <td>1</td>\n",
       "      <td>2</td>\n",
       "      <td>2</td>\n",
       "      <td>1</td>\n",
       "      <td>1</td>\n",
       "      <td>0</td>\n",
       "      <td>0</td>\n",
       "      <td>0</td>\n",
       "      <td>0</td>\n",
       "      <td>0</td>\n",
       "      <td>1</td>\n",
       "      <td>0</td>\n",
       "      <td>1</td>\n",
       "      <td>0</td>\n",
       "    </tr>\n",
       "    <tr>\n",
       "      <th>4</th>\n",
       "      <td>5</td>\n",
       "      <td>2004</td>\n",
       "      <td>0</td>\n",
       "      <td>0</td>\n",
       "      <td>0</td>\n",
       "      <td>1</td>\n",
       "      <td>1</td>\n",
       "      <td>2</td>\n",
       "      <td>2</td>\n",
       "      <td>0</td>\n",
       "      <td>1</td>\n",
       "      <td>0</td>\n",
       "      <td>0</td>\n",
       "      <td>2</td>\n",
       "      <td>1</td>\n",
       "      <td>0</td>\n",
       "    </tr>\n",
       "    <tr>\n",
       "      <th>5</th>\n",
       "      <td>6</td>\n",
       "      <td>2005</td>\n",
       "      <td>0</td>\n",
       "      <td>3</td>\n",
       "      <td>2</td>\n",
       "      <td>1</td>\n",
       "      <td>1</td>\n",
       "      <td>1</td>\n",
       "      <td>0</td>\n",
       "      <td>0</td>\n",
       "      <td>0</td>\n",
       "      <td>2</td>\n",
       "      <td>1</td>\n",
       "      <td>4</td>\n",
       "      <td>3</td>\n",
       "      <td>0</td>\n",
       "    </tr>\n",
       "    <tr>\n",
       "      <th>6</th>\n",
       "      <td>7</td>\n",
       "      <td>2006</td>\n",
       "      <td>1</td>\n",
       "      <td>0</td>\n",
       "      <td>0</td>\n",
       "      <td>2</td>\n",
       "      <td>1</td>\n",
       "      <td>0</td>\n",
       "      <td>0</td>\n",
       "      <td>1</td>\n",
       "      <td>0</td>\n",
       "      <td>1</td>\n",
       "      <td>0</td>\n",
       "      <td>0</td>\n",
       "      <td>0</td>\n",
       "      <td>0</td>\n",
       "    </tr>\n",
       "    <tr>\n",
       "      <th>7</th>\n",
       "      <td>8</td>\n",
       "      <td>2007</td>\n",
       "      <td>1</td>\n",
       "      <td>2</td>\n",
       "      <td>0</td>\n",
       "      <td>0</td>\n",
       "      <td>0</td>\n",
       "      <td>0</td>\n",
       "      <td>1</td>\n",
       "      <td>0</td>\n",
       "      <td>1</td>\n",
       "      <td>1</td>\n",
       "      <td>2</td>\n",
       "      <td>1</td>\n",
       "      <td>4</td>\n",
       "      <td>1</td>\n",
       "    </tr>\n",
       "    <tr>\n",
       "      <th>8</th>\n",
       "      <td>9</td>\n",
       "      <td>2008</td>\n",
       "      <td>0</td>\n",
       "      <td>0</td>\n",
       "      <td>1</td>\n",
       "      <td>2</td>\n",
       "      <td>0</td>\n",
       "      <td>1</td>\n",
       "      <td>2</td>\n",
       "      <td>1</td>\n",
       "      <td>0</td>\n",
       "      <td>1</td>\n",
       "      <td>0</td>\n",
       "      <td>3</td>\n",
       "      <td>0</td>\n",
       "      <td>0</td>\n",
       "    </tr>\n",
       "    <tr>\n",
       "      <th>9</th>\n",
       "      <td>10</td>\n",
       "      <td>2009</td>\n",
       "      <td>3</td>\n",
       "      <td>0</td>\n",
       "      <td>1</td>\n",
       "      <td>0</td>\n",
       "      <td>0</td>\n",
       "      <td>0</td>\n",
       "      <td>0</td>\n",
       "      <td>1</td>\n",
       "      <td>0</td>\n",
       "      <td>0</td>\n",
       "      <td>2</td>\n",
       "      <td>0</td>\n",
       "      <td>1</td>\n",
       "      <td>1</td>\n",
       "    </tr>\n",
       "    <tr>\n",
       "      <th>10</th>\n",
       "      <td>11</td>\n",
       "      <td>2010</td>\n",
       "      <td>0</td>\n",
       "      <td>0</td>\n",
       "      <td>0</td>\n",
       "      <td>0</td>\n",
       "      <td>0</td>\n",
       "      <td>0</td>\n",
       "      <td>1</td>\n",
       "      <td>0</td>\n",
       "      <td>0</td>\n",
       "      <td>2</td>\n",
       "      <td>0</td>\n",
       "      <td>1</td>\n",
       "      <td>0</td>\n",
       "      <td>1</td>\n",
       "    </tr>\n",
       "    <tr>\n",
       "      <th>11</th>\n",
       "      <td>12</td>\n",
       "      <td>2011</td>\n",
       "      <td>2</td>\n",
       "      <td>1</td>\n",
       "      <td>0</td>\n",
       "      <td>0</td>\n",
       "      <td>1</td>\n",
       "      <td>1</td>\n",
       "      <td>1</td>\n",
       "      <td>0</td>\n",
       "      <td>0</td>\n",
       "      <td>1</td>\n",
       "      <td>0</td>\n",
       "      <td>1</td>\n",
       "      <td>3</td>\n",
       "      <td>0</td>\n",
       "    </tr>\n",
       "    <tr>\n",
       "      <th>12</th>\n",
       "      <td>13</td>\n",
       "      <td>2012</td>\n",
       "      <td>1</td>\n",
       "      <td>1</td>\n",
       "      <td>2</td>\n",
       "      <td>1</td>\n",
       "      <td>0</td>\n",
       "      <td>0</td>\n",
       "      <td>3</td>\n",
       "      <td>2</td>\n",
       "      <td>1</td>\n",
       "      <td>1</td>\n",
       "      <td>0</td>\n",
       "      <td>1</td>\n",
       "      <td>2</td>\n",
       "      <td>0</td>\n",
       "    </tr>\n",
       "    <tr>\n",
       "      <th>13</th>\n",
       "      <td>14</td>\n",
       "      <td>2013</td>\n",
       "      <td>0</td>\n",
       "      <td>1</td>\n",
       "      <td>1</td>\n",
       "      <td>0</td>\n",
       "      <td>0</td>\n",
       "      <td>1</td>\n",
       "      <td>1</td>\n",
       "      <td>0</td>\n",
       "      <td>0</td>\n",
       "      <td>0</td>\n",
       "      <td>0</td>\n",
       "      <td>1</td>\n",
       "      <td>1</td>\n",
       "      <td>0</td>\n",
       "    </tr>\n",
       "    <tr>\n",
       "      <th>14</th>\n",
       "      <td>15</td>\n",
       "      <td>2014</td>\n",
       "      <td>0</td>\n",
       "      <td>0</td>\n",
       "      <td>1</td>\n",
       "      <td>1</td>\n",
       "      <td>0</td>\n",
       "      <td>1</td>\n",
       "      <td>1</td>\n",
       "      <td>0</td>\n",
       "      <td>0</td>\n",
       "      <td>1</td>\n",
       "      <td>2</td>\n",
       "      <td>2</td>\n",
       "      <td>0</td>\n",
       "      <td>2</td>\n",
       "    </tr>\n",
       "    <tr>\n",
       "      <th>15</th>\n",
       "      <td>16</td>\n",
       "      <td>2015</td>\n",
       "      <td>1</td>\n",
       "      <td>2</td>\n",
       "      <td>0</td>\n",
       "      <td>2</td>\n",
       "      <td>0</td>\n",
       "      <td>1</td>\n",
       "      <td>1</td>\n",
       "      <td>2</td>\n",
       "      <td>0</td>\n",
       "      <td>2</td>\n",
       "      <td>1</td>\n",
       "      <td>1</td>\n",
       "      <td>2</td>\n",
       "      <td>2</td>\n",
       "    </tr>\n",
       "    <tr>\n",
       "      <th>16</th>\n",
       "      <td>17</td>\n",
       "      <td>2016</td>\n",
       "      <td>0</td>\n",
       "      <td>0</td>\n",
       "      <td>0</td>\n",
       "      <td>1</td>\n",
       "      <td>1</td>\n",
       "      <td>1</td>\n",
       "      <td>0</td>\n",
       "      <td>1</td>\n",
       "      <td>1</td>\n",
       "      <td>0</td>\n",
       "      <td>3</td>\n",
       "      <td>3</td>\n",
       "      <td>1</td>\n",
       "      <td>0</td>\n",
       "    </tr>\n",
       "    <tr>\n",
       "      <th>17</th>\n",
       "      <td>18</td>\n",
       "      <td>2017</td>\n",
       "      <td>1</td>\n",
       "      <td>3</td>\n",
       "      <td>2</td>\n",
       "      <td>0</td>\n",
       "      <td>1</td>\n",
       "      <td>1</td>\n",
       "      <td>3</td>\n",
       "      <td>0</td>\n",
       "      <td>1</td>\n",
       "      <td>1</td>\n",
       "      <td>0</td>\n",
       "      <td>1</td>\n",
       "      <td>1</td>\n",
       "      <td>0</td>\n",
       "    </tr>\n",
       "    <tr>\n",
       "      <th>18</th>\n",
       "      <td>19</td>\n",
       "      <td>2018</td>\n",
       "      <td>0</td>\n",
       "      <td>1</td>\n",
       "      <td>0</td>\n",
       "      <td>0</td>\n",
       "      <td>0</td>\n",
       "      <td>1</td>\n",
       "      <td>0</td>\n",
       "      <td>2</td>\n",
       "      <td>0</td>\n",
       "      <td>0</td>\n",
       "      <td>1</td>\n",
       "      <td>3</td>\n",
       "      <td>0</td>\n",
       "      <td>0</td>\n",
       "    </tr>\n",
       "    <tr>\n",
       "      <th>19</th>\n",
       "      <td>20</td>\n",
       "      <td>2019</td>\n",
       "      <td>1</td>\n",
       "      <td>0</td>\n",
       "      <td>0</td>\n",
       "      <td>0</td>\n",
       "      <td>0</td>\n",
       "      <td>0</td>\n",
       "      <td>0</td>\n",
       "      <td>0</td>\n",
       "      <td>1</td>\n",
       "      <td>0</td>\n",
       "      <td>1</td>\n",
       "      <td>1</td>\n",
       "      <td>0</td>\n",
       "      <td>0</td>\n",
       "    </tr>\n",
       "  </tbody>\n",
       "</table>\n",
       "</div>"
      ],
      "text/plain": [
       "    0     1   2   3   4   5   6   7   8   9   10  11  12  13  14  15\n",
       "0    1  2000   0   0   0   0   0   0   0   1   1   0   0   0   1   0\n",
       "1    2  2001   2   0   0   0   1   0   0   0   0   0   0   0   1   1\n",
       "2    3  2002   2   0   0   0   0   0   1   1   0   0   1   0   2   0\n",
       "3    4  2003   1   2   2   1   1   0   0   0   0   0   1   0   1   0\n",
       "4    5  2004   0   0   0   1   1   2   2   0   1   0   0   2   1   0\n",
       "5    6  2005   0   3   2   1   1   1   0   0   0   2   1   4   3   0\n",
       "6    7  2006   1   0   0   2   1   0   0   1   0   1   0   0   0   0\n",
       "7    8  2007   1   2   0   0   0   0   1   0   1   1   2   1   4   1\n",
       "8    9  2008   0   0   1   2   0   1   2   1   0   1   0   3   0   0\n",
       "9   10  2009   3   0   1   0   0   0   0   1   0   0   2   0   1   1\n",
       "10  11  2010   0   0   0   0   0   0   1   0   0   2   0   1   0   1\n",
       "11  12  2011   2   1   0   0   1   1   1   0   0   1   0   1   3   0\n",
       "12  13  2012   1   1   2   1   0   0   3   2   1   1   0   1   2   0\n",
       "13  14  2013   0   1   1   0   0   1   1   0   0   0   0   1   1   0\n",
       "14  15  2014   0   0   1   1   0   1   1   0   0   1   2   2   0   2\n",
       "15  16  2015   1   2   0   2   0   1   1   2   0   2   1   1   2   2\n",
       "16  17  2016   0   0   0   1   1   1   0   1   1   0   3   3   1   0\n",
       "17  18  2017   1   3   2   0   1   1   3   0   1   1   0   1   1   0\n",
       "18  19  2018   0   1   0   0   0   1   0   2   0   0   1   3   0   0\n",
       "19  20  2019   1   0   0   0   0   0   0   0   1   0   1   1   0   0"
      ]
     },
     "execution_count": 2,
     "metadata": {},
     "output_type": "execute_result"
    }
   ],
   "source": [
    "df = pd.read_csv('manufacturing_defects.txt', sep='\\t',header=None)#The given datasheet was read with the pandas library.\n",
    "df # table print to see "
   ]
  },
  {
   "cell_type": "code",
   "execution_count": 3,
   "metadata": {},
   "outputs": [],
   "source": [
    "data = df.values# The data is kept in the array named data. To be array has facilitated the desired operations."
   ]
  },
  {
   "cell_type": "code",
   "execution_count": 4,
   "metadata": {},
   "outputs": [],
   "source": [
    "years,columns = data.shape # Two different variables were defined as years and columns. The shape of the data was entered in two variables."
   ]
  },
  {
   "cell_type": "markdown",
   "metadata": {},
   "source": [
    "# a)"
   ]
  },
  {
   "cell_type": "code",
   "execution_count": 5,
   "metadata": {},
   "outputs": [
    {
     "name": "stdout",
     "output_type": "stream",
     "text": [
      "# of Defects\t# of Cases\n",
      "0 \t 144.0\n",
      "1 \t 91.0\n",
      "2 \t 32.0\n",
      "3 \t 11.0\n",
      "4 \t 2.0\n"
     ]
    }
   ],
   "source": [
    "defects = np.zeros(5)#Created an empty array to hold the cases counts.\n",
    "for i in range(years):#her vaka sayısını karşılaştırmak için üçlü for döngüsü oluşturuldu.\n",
    "    for k in range(2,columns):# ilk iki sütunlarda satır sayısı ve yıllar yazdığı için 3.sütundan saymaya başlandı.\n",
    "          for j in range(5):# her vaka bir defects sayısı ile karşılaştırıldı ve defects e kaydedildi.\n",
    "                if data[i][k]== j:\n",
    "                    defects[j] = defects[j]+1\n",
    "\n",
    "print(\"# of Defects\"\"\\t\"\"# of Cases\")                    \n",
    "for i in range(5):#Sonuçlar bastırıldı.\n",
    "    print(i,\"\\t\",defects[i])\n"
   ]
  },
  {
   "cell_type": "code",
   "execution_count": 14,
   "metadata": {},
   "outputs": [
    {
     "data": {
      "text/plain": [
       "9.8"
      ]
     },
     "execution_count": 14,
     "metadata": {},
     "output_type": "execute_result"
    }
   ],
   "source": [
    "196/20\n"
   ]
  },
  {
   "cell_type": "markdown",
   "metadata": {},
   "source": [
    "# b) finding rate parameter"
   ]
  },
  {
   "cell_type": "code",
   "execution_count": 6,
   "metadata": {},
   "outputs": [],
   "source": [
    "def poison(rate,k):# Poison pmf için bir fonksiyon tanımlandı. \n",
    "    poison = (np.exp(-rate))*((rate**k)/math.factorial(k)) # poisson dağılım formülü uygulandı.\n",
    "    return poison"
   ]
  },
  {
   "cell_type": "code",
   "execution_count": null,
   "metadata": {},
   "outputs": [],
   "source": []
  },
  {
   "cell_type": "code",
   "execution_count": 7,
   "metadata": {},
   "outputs": [
    {
     "name": "stdout",
     "output_type": "stream",
     "text": [
      "Company\tRate parameter\n",
      "1 .Company \t 0.8\n",
      "2 .Company \t 0.8\n",
      "3 .Company \t 0.6\n",
      "4 .Company \t 0.6\n",
      "5 .Company \t 0.4\n",
      "6 .Company \t 0.55\n",
      "7 .Company \t 0.85\n",
      "8 .Company \t 0.6\n",
      "9 .Company \t 0.35\n",
      "10 .Company \t 0.65\n",
      "11 .Company \t 0.75\n",
      "12 .Company \t 1.25\n",
      "13 .Company \t 1.2\n",
      "14 .Company \t 0.4\n"
     ]
    }
   ],
   "source": [
    "rate = np.zeros(14) # 14 şirket için de bir rate parameter bulacağımız için 14 elemanlı boş bir dizi oluşturuldu.\n",
    "total_cases = np.zeros(14) # 14 şirketin 20 yıl boyunca hatalı üretim sayısını tutmak için boş bir dizi oluşturuldu.\n",
    "\n",
    "#20 yıl boyunca vaka sayılarının toplamı için iki for döngüsü kullanıldı.\n",
    "for i in range (2,columns): # ilk iki sütunlarda satır sayısı ve yıllar yazdığı için 3.sütundan saymaya başlandı.\n",
    "    for k in range(years):\n",
    "        total_cases[i-2] = total_cases[i-2] + data[k][i] # for döngüsü i=2 den başladığı için düzgün sayım için total_cases -2'den başlatıldı.\n",
    "\n",
    "\n",
    "print(\"Company\"\"\\t\"\"Rate parameter\")  \n",
    "\n",
    "# rate parameter formülünün uygulanması için ikili for döngüsü oluşturuldu.\n",
    "for i in range(14):#şirket sayısı girildi.\n",
    "    rate[i]= total_cases[i]/20\n",
    "    print(i+1,\".Company\",\"\\t\",rate[i]) \n",
    " \n"
   ]
  },
  {
   "cell_type": "markdown",
   "metadata": {},
   "source": [
    "# c) updating tables"
   ]
  },
  {
   "cell_type": "code",
   "execution_count": 8,
   "metadata": {},
   "outputs": [
    {
     "name": "stdout",
     "output_type": "stream",
     "text": [
      "# of Defects\t# of Cases\tPredict numbers\n",
      "0 \t  \t 144.0 \t \t 143.53794197820304\n",
      "1 \t  \t 91.0 \t \t 91.66955926945701\n",
      "2 \t  \t 32.0 \t \t 33.196728895925595\n",
      "3 \t  \t 11.0 \t \t 9.04307742467245\n",
      "4 \t  \t 2.0 \t \t 2.0574585216458248\n"
     ]
    }
   ],
   "source": [
    "prob = np.zeros((14,5))#her şirketin hata olasılığı için boş bir array tanımlandı.\n",
    "predict_cases = np.zeros((14,5))#Tahminler için boş bir array tanımlandı.\n",
    "for k in range (5):#tahmin sayısı için for döngüleri\n",
    "    for i in range(14):\n",
    "        prob[i][k]= poison(rate[i],k)#her şirket için Poison olasılığı hesaplandı.\n",
    "        predict_cases[i][k]= prob[i][k]*20 #20 yılda her şirket için her hata için vaka sayısı hesaplandı. \n",
    "\n",
    "predicted_defects=np.zeros(5)# tahmini vakaları sayılarını tutmak için bir boş dizi oluşturuldu.\n",
    "\n",
    "for i in range(5):#şirketlerin vaka sayıları toplandı.\n",
    "    for k in range(14):\n",
    "        predicted_defects[i]+=predict_cases[k][i]\n",
    "\n",
    "#sonuçlar bastırıldı.\n",
    "print(\"# of Defects\"\"\\t\"\"# of Cases\"\"\\t\"\"Predict numbers\")        \n",
    "for i in range(5):\n",
    "    print(i,\"\\t \",\"\\t\",defects[i],\"\\t\",\"\\t\",predicted_defects[i])\n",
    "    \n",
    "    \n",
    "    \n"
   ]
  },
  {
   "cell_type": "markdown",
   "metadata": {},
   "source": [
    "# d) Barplot"
   ]
  },
  {
   "cell_type": "code",
   "execution_count": 9,
   "metadata": {},
   "outputs": [
    {
     "data": {
      "text/plain": [
       "Text(0.5, 0, '#of Defects')"
      ]
     },
     "execution_count": 9,
     "metadata": {},
     "output_type": "execute_result"
    },
    {
     "data": {
      "image/png": "[encoded data removed]",
      "text/plain": [
       "<Figure size 432x288 with 1 Axes>"
      ]
     },
     "metadata": {
      "needs_background": "light"
     },
     "output_type": "display_data"
    }
   ],
   "source": [
    "# Barplot çizdirmek için sonuçlar arrayden list yapısına dönüştürüldü.\n",
    "predict = predicted_defects.tolist()\n",
    "actual = defects.tolist()\n",
    "\n",
    "\n",
    "X = np.arange(5) # Defects için bir x ekseni tanımlandı\n",
    "fig = plt.figure() # yeni figür açıldı\n",
    "ax = fig.add_axes([0,0,1,1]) # eksenler tanımlandı\n",
    "ax.bar(X -0.125, actual, color = 'b', width = 0.25) #plotlar çizdirildi.\n",
    "ax.bar(X + 0.125, predict, color = 'r', width = 0.25)\n",
    "ax.legend(labels=['Actual Cases', 'Predict Cases']) # labellar tanımlandı.\n",
    "ax.set_ylabel('# of Cases')#Eksen isimleri tanımlandı.\n",
    "ax.set_xlabel('#of Defects')\n",
    "\n"
   ]
  },
  {
   "cell_type": "markdown",
   "metadata": {},
   "source": [
    "# f) The company prefer to buy a car"
   ]
  },
  {
   "cell_type": "code",
   "execution_count": 10,
   "metadata": {},
   "outputs": [
    {
     "name": "stdout",
     "output_type": "stream",
     "text": [
      "Sıfır hatalı vaka olasılığı en yüksek olan değer=  0.7046880897187134 Şirket:  9 .Şirket\n"
     ]
    }
   ],
   "source": [
    "# Firma seçimi için 0 hatalı vaka olasılığı en yüksek olan şirketi bulmak lazım.\n",
    "#bunun için max  komutu kullanabiliriz.\n",
    "pre = np.zeros(14)\n",
    "for i in range(14):\n",
    "    pre[i] = poison(rate[i],0)\n",
    "max_prob = max(pre)\n",
    "for i in range(14):\n",
    "    if pre[i]==max_prob:\n",
    "        company_no = i+1\n",
    "print(\"Sıfır hatalı vaka olasılığı en yüksek olan değer= \",max_prob,\"Şirket: \",company_no,\".Şirket\")"
   ]
  },
  {
   "cell_type": "code",
   "execution_count": 1,
   "metadata": {},
   "outputs": [
    {
     "data": {
      "text/plain": [
       "351"
      ]
     },
     "execution_count": 1,
     "metadata": {},
     "output_type": "execute_result"
    }
   ],
   "source": [
    "9*39\n"
   ]
  },
  {
   "cell_type": "code",
   "execution_count": 2,
   "metadata": {},
   "outputs": [
    {
     "data": {
      "text/plain": [
       "10"
      ]
     },
     "execution_count": 2,
     "metadata": {},
     "output_type": "execute_result"
    }
   ],
   "source": [
    "351%11\n"
   ]
  },
  {
   "cell_type": "code",
   "execution_count": null,
   "metadata": {},
   "outputs": [],
   "source": []
  }
 ],
 "metadata": {
  "kernelspec": {
   "display_name": "Python 3",
   "language": "python",
   "name": "python3"
  },
  "language_info": {
   "codemirror_mode": {
    "name": "ipython",
    "version": 3
   },
   "file_extension": ".py",
   "mimetype": "text/x-python",
   "name": "python",
   "nbconvert_exporter": "python",
   "pygments_lexer": "ipython3",
   "version": "3.8.5"
  }
 },
 "nbformat": 4,
 "nbformat_minor": 4
}
